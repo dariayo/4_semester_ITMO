{
  "nbformat": 4,
  "nbformat_minor": 0,
  "metadata": {
    "colab": {
      "provenance": []
    },
    "kernelspec": {
      "name": "python3",
      "display_name": "Python 3"
    },
    "language_info": {
      "name": "python"
    }
  },
  "cells": [
    {
      "cell_type": "markdown",
      "source": [
        "# Лабораторная работа №2\n",
        "\n",
        "# Вариант 1\n",
        "\n",
        "Толстых Мария, Шевченко Дарья P3230"
      ],
      "metadata": {
        "id": "OYkVucHpBHb6"
      }
    },
    {
      "cell_type": "markdown",
      "source": [
        "# Задание 1"
      ],
      "metadata": {
        "id": "I0wtnyY6ALXy"
      }
    },
    {
      "cell_type": "markdown",
      "source": [
        "1. По свойствам нормального распределения:\n",
        "\n",
        "Среднее значение выборки определяется как: $\\overline X_1$ = $ \\frac{1}{n_1}\\sum_{i=1}^{n_1} X_{1,i}$\n",
        "\n",
        "Математическое ожидание среднего значения выборки $\\overline {X}_1$ равно математическому ожиданию исходного распределения:\n",
        "$\\mathbb{E}[\\overline{X}_1] = \\mathbb{E}\\left[\\frac{1}{n_1} \\sum_{i=1}^{n_1} X_{1,i}\\right] = \\frac{1}{n_1} \\sum_{i=1}^{n_1} \\mathbb{E}[X_{1,i}] = \\frac{1}{n_1} \\cdot n_1 \\cdot \\mu_1 = \\mu_1$\n",
        "\n",
        "Дисперсия среднего значения выборки $\\overline{X}_1$ уменьшается по мере увеличения объема выборки. Дисперсия среднего значения выборки равна дисперсии исходного распределения, деленной на объем выборки:\n",
        "$\\text{Var}(\\overline{X}_1) = \\text{Var}\\left(\\frac{1}{n_1} \\sum_{i=1}^{n_1} X_{1,i}\\right) = \\frac{1}{n_1^2} \\sum_{i=1}^{n_1} \\text{Var}(X_{1,i}) = \\frac{1}{n_1^2} \\cdot n_1 \\cdot \\sigma_1^2 = \\frac{\\sigma_1^2}{n_1}\n",
        "   $\n",
        "\n",
        "\n",
        "$\\overline X_1 \\sim N(\\mu_1, \\frac{\\sigma_1^2}{n_1})$\n",
        "\n",
        "$\\overline X_2 \\sim N(\\mu_2, \\frac{\\sigma_2^2}{n_2})$\n",
        "\n",
        "И тогда разность средних значений тоже распределена нормально(Разность двух нормальных распределений также имеет нормальное распределение, с математическим ожиданием, равным разности математических ожиданий, и дисперсией, равной сумме дисперсий.): $\\overline X_1 -\\overline X_2  \\sim N(\\mu_1 - \\mu_2, \\frac{\\sigma_1^2}{n_1} + \\frac{\\sigma_2^2}{n_2})$\n",
        "\n",
        "Следовательно, $G = \\frac {\\overline X_1 -\\overline X_2 - \\tau}{\\sigma} \\sim N(0, 1)$,\n",
        "\n",
        "где $\\tau = \\mu_1 - \\mu_2$ и $\\sigma^2 = \\frac{\\sigma_1^2}{n_1} + \\frac{\\sigma_2^2}{n_2}$\n",
        "\n",
        "2. Найдем доверительный интервал:\n",
        "\n",
        "$\\mathbb{P}(g_1< G <g_2) = 1 - \\alpha$\n",
        "\n",
        "Получаем $\\Phi(g_1) = \\frac{\\alpha}{2}$ и $\\Phi(g_2) = 1 - \\frac{\\alpha}{2}$, где $\\Phi(x)$ - функция распределения нормального закона. То есть $g_2 = -g_1 = z_{1 - \\frac{\\alpha}{2}}$ - квантиль нормального стандартного распределения.\n",
        "\n",
        "3. Выражаем отсюда нужный параметр:\n",
        "\n",
        "$ -z_{1 - \\frac{\\alpha}{2}} < \\frac {\\overline X_1 -\\overline X_2 - \\tau}{\\sigma} < z_{1 - \\frac{\\alpha}{2}}$\n",
        "\n",
        "$ \\overline X_1 -\\overline X_2 - \\sigma z_{1 - \\frac{\\alpha}{2}} < \\tau < \\overline X_1 -\\overline X_2 + \\sigma z_{1 - \\frac{\\alpha}{2}} $\n"
      ],
      "metadata": {
        "id": "y_LNMfdA-WBp"
      }
    },
    {
      "cell_type": "code",
      "source": [
        "import numpy as np\n",
        "from scipy.stats import norm, expon"
      ],
      "metadata": {
        "id": "0eu8u1G_-jW7"
      },
      "execution_count": null,
      "outputs": []
    },
    {
      "cell_type": "code",
      "source": [
        "# Задаем параметры для нормальных распределений\n",
        "mu1 = 2\n",
        "mu2 = 1\n",
        "var1 = 1\n",
        "var2 = 0.5"
      ],
      "metadata": {
        "id": "jvsr-FqY-mKt"
      },
      "execution_count": null,
      "outputs": []
    },
    {
      "cell_type": "code",
      "source": [
        "# Устанавливаем начальное значение для генератора случайных чисел для воспроизводимости\n",
        "np.random.seed(42)"
      ],
      "metadata": {
        "id": "bAJ39DYm-oMg"
      },
      "execution_count": null,
      "outputs": []
    },
    {
      "cell_type": "markdown",
      "source": [
        "## 2 выборки"
      ],
      "metadata": {
        "id": "RwYEKNmu-rda"
      }
    },
    {
      "cell_type": "code",
      "source": [
        "# Функция для расчета доверительного интервала\n",
        "def get_confidence_interval(sample1, sample2, var1, var2, alpha=0.05):\n",
        "    z = norm.ppf(q=1-alpha/2, loc=0, scale=1)  # Вычисляем квантиль нормального распределения для заданного уровня доверия\n",
        "    n1 = len(sample1)\n",
        "    n2 = len(sample2)\n",
        "    sigma = np.sqrt(var1/n1 + var2/n2)  # Вычисляем стандартное отклонение разности средних\n",
        "    left = sample1.mean() - sample2.mean() - sigma * z  # Левая граница доверительного интервала\n",
        "    right = sample1.mean() - sample2.mean() + sigma * z  # Правая граница доверительного интервала\n",
        "    return left, right"
      ],
      "metadata": {
        "id": "X5Z0FX5j-vEe"
      },
      "execution_count": null,
      "outputs": []
    },
    {
      "cell_type": "code",
      "source": [
        "# Генерируем выборки из нормальных распределений\n",
        "sample1 = norm(loc=mu1, scale=np.sqrt(var1)).rvs(size=25)\n",
        "sample2 = norm(loc=mu2, scale=np.sqrt(var2)).rvs(size=25)"
      ],
      "metadata": {
        "id": "bZODOpGj-xW4"
      },
      "execution_count": null,
      "outputs": []
    },
    {
      "cell_type": "code",
      "source": [
        "print('Доверительный интервал:',\n",
        "      get_confidence_interval(sample1, sample2, var1, var2, alpha = 0.05))"
      ],
      "metadata": {
        "id": "WPfdu6n3-y-6",
        "colab": {
          "base_uri": "https://localhost:8080/"
        },
        "outputId": "8243979e-6a2c-496a-8692-ee3a1b24bdb1"
      },
      "execution_count": null,
      "outputs": [
        {
          "output_type": "stream",
          "name": "stdout",
          "text": [
            "Доверительный интервал: (0.5596513714250534, 1.5198337066961152)\n"
          ]
        }
      ]
    },
    {
      "cell_type": "markdown",
      "source": [
        "## 1000 раз генерируем выборки размера 25"
      ],
      "metadata": {
        "id": "q82marcN-015"
      }
    },
    {
      "cell_type": "code",
      "source": [
        "# 1000 раз генерируем выборки размера 25 и проверяем, сколько раз истинное значение параметра попадает в доверительный интервал\n",
        "check = 0\n",
        "tau = mu1 - mu2\n",
        "\n",
        "for _ in range(1000):\n",
        "    sample1 = norm(loc=mu1, scale=np.sqrt(var1)).rvs(size=25)\n",
        "    sample2 = norm(loc=mu2, scale=np.sqrt(var2)).rvs(size=25)\n",
        "\n",
        "    left, right = get_confidence_interval(sample1, sample2, var1, var2, alpha = 0.05)\n",
        "    if tau > left and tau < right:\n",
        "        check += 1"
      ],
      "metadata": {
        "id": "wF_BK_eo-7IQ"
      },
      "execution_count": null,
      "outputs": []
    },
    {
      "cell_type": "code",
      "source": [
        "print('Количество раз, когда тау попадает в доверительный интервал:', check)"
      ],
      "metadata": {
        "id": "VGMBVSoA-9Bj",
        "colab": {
          "base_uri": "https://localhost:8080/"
        },
        "outputId": "b48ab4e1-f78f-4958-e936-cd70ce4d7c6f"
      },
      "execution_count": null,
      "outputs": [
        {
          "output_type": "stream",
          "name": "stdout",
          "text": [
            "Количество раз, когда тау попадает в доверительный интервал: 945\n"
          ]
        }
      ]
    },
    {
      "cell_type": "markdown",
      "source": [
        "## 1000 раз генерируем выборки размера 10000"
      ],
      "metadata": {
        "id": "9MwCI509--4D"
      }
    },
    {
      "cell_type": "code",
      "source": [
        "# 1000 раз генерируем выборки размера 10000 и проверяем, сколько раз истинное значение параметра попадает в доверительный интервал\n",
        "check = 0\n",
        "tau = mu1 - mu2\n",
        "\n",
        "for _ in range(1000):\n",
        "    sample1 = norm(loc=mu1, scale=np.sqrt(var1)).rvs(size=10000)\n",
        "    sample2 = norm(loc=mu2, scale=np.sqrt(var2)).rvs(size=10000)\n",
        "\n",
        "    left, right = get_confidence_interval(sample1, sample2, var1, var2, alpha = 0.05)\n",
        "    if tau > left and tau < right:\n",
        "        check += 1"
      ],
      "metadata": {
        "id": "bbmvgi8M_BLT"
      },
      "execution_count": null,
      "outputs": []
    },
    {
      "cell_type": "code",
      "source": [
        "print('Количество раз, когда тау попадает в доверительный интервал:', check)"
      ],
      "metadata": {
        "id": "Bf0QyGkH_CvV",
        "colab": {
          "base_uri": "https://localhost:8080/"
        },
        "outputId": "409a0772-4f87-47ba-dbc5-f84e078c5227"
      },
      "execution_count": null,
      "outputs": [
        {
          "output_type": "stream",
          "name": "stdout",
          "text": [
            "Количество раз, когда тау попадает в доверительный интервал: 952\n"
          ]
        }
      ]
    },
    {
      "cell_type": "markdown",
      "source": [
        "Количество попаданий параметра в доверительный интервал близко к 95%, что согласуется с самим понятием доверительного интервала. С ростом объема выборки процент количества попаданий не меняется, так как с ростом выборки уменьшается и доверительный интервал."
      ],
      "metadata": {
        "id": "KyD6pY8Q_IQh"
      }
    },
    {
      "cell_type": "markdown",
      "source": [
        "# Задание 2"
      ],
      "metadata": {
        "id": "9k45oas9_J6t"
      }
    },
    {
      "cell_type": "markdown",
      "source": [
        "1. По теореме об асимптотической нормальности средних членов вариационного ряда медиана стремится к нормальному распределению с параметрами:\n",
        "\n",
        "$\\hat\\zeta_{n,1/2} \\sim N(\\zeta_{1/2}, \\frac{1}{4nf^2(\\zeta_{1/2})})$,\n",
        "\n",
        "где $\\hat\\zeta_{n,1/2}$ - выборочная медиана, $\\zeta_{1/2}$ - медиана распределения, $f(x)$ - плотность распределения.\n",
        "\n",
        "2. Для экспоненциального распределения:\n",
        "\n",
        "Плотность распределения: $f(x) = \\lambda e^{-\\lambda x}$\n",
        "\n",
        "Медиана: $\\zeta_{1/2} = \\frac{ln2}{\\lambda}$\n",
        "\n",
        "Подставляя f($\\zeta_{1/2}$)= $\\frac{\\lambda}{2}$ в формулу дисперсии Var($\\hat\\zeta_{n,1/2}$)=$\\frac{1}{4n(\\frac{\\lambda}{2})^2}$ = $\\frac{1}{n\\lambda^2}$\n",
        "\n",
        "Получаем, что $\\hat\\zeta_{n,1/2} \\sim N(\\zeta_{1/2}, \\frac{1}{n\\lambda^2})$\n",
        "\n",
        "3. Найдем симметричный относительно среднего доверительный интервал по свойствам нормального распределения:\n",
        "\n",
        "Для построения доверительного интервала нам нужно использовать стандартное нормальное распределение. Мы знаем, что разница $\\hat\\zeta_{n,1/2} - \\zeta_{1/2}$ асимптотически нормально распределена со средним 0 и дисперсией $\\frac{1}{4nf^2(\\zeta_{1/2})}$\n",
        "\n",
        "Для использования стандартного нормального распределения:\n",
        "$\\frac{\\hat\\zeta_{n,1/2} - \\zeta_{1/2}}{\\sigma} \\sim N(0,1) $\n",
        "где $\\sigma = \\sqrt{\\frac{1}{4nf^2(\\zeta_{1/2})}} = \\frac{1}{\\sqrt{n\\lambda}}$\n",
        "\n",
        "$\\mathbb{P}(-z_{1 - \\frac{\\alpha}{2}}<\\frac{\\hat\\zeta_{n,1/2} - \\zeta_{1/2}}{\\sigma}<z_{1 - \\frac{\\alpha}{2}}) = 1 - \\alpha$,\n",
        "\n",
        "$\\mathbb{P}(|\\hat\\zeta_{n,1/2} - \\zeta_{1/2}|<\\delta) = 1 - \\alpha$,\n",
        "\n",
        "где $\\delta = \\sigma z_{1 - \\frac{\\alpha}{2}} = \\frac{z_{1 - \\frac{\\alpha}{2}}}{\\sqrt{n} \\lambda}$, $z_{1 - \\frac{\\alpha}{2}}$ - квантиль нормального стандартного распределения.\n",
        "\n",
        "\n",
        "4. Получаем интервал:\n",
        "\n",
        "$ \\hat\\zeta_{n,1/2} - \\frac{z_{1 - \\frac{\\alpha}{2}}}{\\sqrt{n} \\lambda} < \\zeta_{1/2} < \\hat\\zeta_{n,1/2} + \\frac{z_{1 - \\frac{\\alpha}{2}}}{\\sqrt{n} \\lambda}$"
      ],
      "metadata": {
        "id": "SyJFMUvh_VQ6"
      }
    },
    {
      "cell_type": "code",
      "source": [
        "# Параметры распределения\n",
        "lam = 1"
      ],
      "metadata": {
        "id": "TeF_JSGn_ZuX"
      },
      "execution_count": null,
      "outputs": []
    },
    {
      "cell_type": "markdown",
      "source": [
        "## 1 выборка"
      ],
      "metadata": {
        "id": "yC3O0wUz_c_f"
      }
    },
    {
      "cell_type": "code",
      "source": [
        "# Функция для расчета доверительного интервала медианы\n",
        "def get_confidence_interval2(sample, lam, alpha=0.05):\n",
        "    # Квантиль нормального распределения для уровня доверия 1 - alpha\n",
        "    z = norm.ppf(q=1 - alpha/2)\n",
        "    # Размер выборки\n",
        "    n = len(sample)\n",
        "    # Выборочная медиана\n",
        "    med = np.median(sample)\n",
        "    # Левая граница интервала\n",
        "    left = med - z / (lam * np.sqrt(n))\n",
        "    # Правая граница интервала\n",
        "    right = med + z / (lam * np.sqrt(n))\n",
        "    return left, right"
      ],
      "metadata": {
        "id": "xFe4yqer_fvy"
      },
      "execution_count": null,
      "outputs": []
    },
    {
      "cell_type": "code",
      "source": [
        "# Генерация выборки и расчет доверительного интервала\n",
        "sample = expon(scale=1/lam).rvs(size=25)"
      ],
      "metadata": {
        "id": "86aANGSW_jJU"
      },
      "execution_count": null,
      "outputs": []
    },
    {
      "cell_type": "code",
      "source": [
        "print('Выборочная медиана:', np.median(sample))\n",
        "print('Доверительный интервал:',\n",
        "     get_confidence_interval2(sample, lam=lam, alpha = 0.05))"
      ],
      "metadata": {
        "id": "VTskr6Ck_lL8",
        "colab": {
          "base_uri": "https://localhost:8080/"
        },
        "outputId": "4c2816e5-1e99-48b7-824c-6c54aa4af2c1"
      },
      "execution_count": null,
      "outputs": [
        {
          "output_type": "stream",
          "name": "stdout",
          "text": [
            "Выборочная медиана: 0.5631571839781372\n",
            "Доверительный интервал: (0.17116438707012638, 0.955149980886148)\n"
          ]
        }
      ]
    },
    {
      "cell_type": "markdown",
      "source": [
        "## 1000 раз генерируем выборки размера 25"
      ],
      "metadata": {
        "id": "-qx6DFGJ_qnY"
      }
    },
    {
      "cell_type": "code",
      "source": [
        "# Проверка покрытия интервала для 1000 выборок размера 25\n",
        "check = 0\n",
        "# Истинное значение медианы для экспоненциального распределения\n",
        "med = np.log(2) / lam\n",
        "\n",
        "for _ in range(1000):\n",
        "    # Генерация выборки\n",
        "    sample = expon(scale=1/lam).rvs(size=25)\n",
        "    # Расчет доверительного интервала\n",
        "    left, right = get_confidence_interval2(sample, lam=lam, alpha=0.05)\n",
        "    # Проверка попадания истинного значения медианы в доверительный интервал\n",
        "    if left < med < right:\n",
        "        check += 1"
      ],
      "metadata": {
        "id": "TSnNySU3_rnI"
      },
      "execution_count": null,
      "outputs": []
    },
    {
      "cell_type": "code",
      "source": [
        "print('Количество раз, когда медиана попадает в доверительный интервал:', check)"
      ],
      "metadata": {
        "id": "ZPpApu43_uuo",
        "colab": {
          "base_uri": "https://localhost:8080/"
        },
        "outputId": "17614e6a-e22d-433a-ed20-c0c333611cc6"
      },
      "execution_count": null,
      "outputs": [
        {
          "output_type": "stream",
          "name": "stdout",
          "text": [
            "Количество раз, когда медиана попадает в доверительный интервал: 927\n"
          ]
        }
      ]
    },
    {
      "cell_type": "markdown",
      "source": [
        "## 1000 раз генерируем выборки размера 10000"
      ],
      "metadata": {
        "id": "lJtqUglK_xk-"
      }
    },
    {
      "cell_type": "code",
      "source": [
        "# Проверка покрытия интервала для 1000 выборок размером 10000\n",
        "check = 0\n",
        "med = np.log(2)/lam\n",
        "\n",
        "for _ in range(1000):\n",
        "    # Генерация выборки\n",
        "    sample = expon(scale=1/lam).rvs(size=10000)\n",
        "    # Расчет доверительного интервала\n",
        "    left, right = get_confidence_interval2(sample, lam=lam, alpha=0.05)\n",
        "    # Проверка попадания истинного значения медианы в доверительный интервал\n",
        "    if left < med < right:\n",
        "        check += 1"
      ],
      "metadata": {
        "id": "9WLHLz-V_13h"
      },
      "execution_count": null,
      "outputs": []
    },
    {
      "cell_type": "code",
      "source": [
        "print('Количество раз, когда медиана попадает в доверительный интервал:', check)"
      ],
      "metadata": {
        "id": "POYA_Lqs_5Vl",
        "colab": {
          "base_uri": "https://localhost:8080/"
        },
        "outputId": "aeb4b8bd-7155-436a-f32c-b042526fef4d"
      },
      "execution_count": null,
      "outputs": [
        {
          "output_type": "stream",
          "name": "stdout",
          "text": [
            "Количество раз, когда медиана попадает в доверительный интервал: 949\n"
          ]
        }
      ]
    },
    {
      "cell_type": "markdown",
      "source": [
        "Количество попаданий параметра в доверительный интервал близко к 95%, что согласуется с самим понятием доверительного интервала. С ростом объема выборки процент количества попаданий не меняется, так как с ростом выборки уменьшается и доверительный интервал."
      ],
      "metadata": {
        "id": "gz9hR5uK_7B3"
      }
    }
  ]
}