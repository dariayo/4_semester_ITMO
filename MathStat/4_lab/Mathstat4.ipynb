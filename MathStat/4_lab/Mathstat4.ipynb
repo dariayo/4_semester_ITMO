{
  "nbformat": 4,
  "nbformat_minor": 0,
  "metadata": {
    "colab": {
      "provenance": []
    },
    "kernelspec": {
      "name": "python3",
      "display_name": "Python 3"
    },
    "language_info": {
      "name": "python"
    }
  },
  "cells": [
    {
      "cell_type": "markdown",
      "source": [
        "# Лабораторная работа №4\n",
        "Шевченко Дарья, Толстых Мария P3230\n",
        "\n",
        "Вариант 1"
      ],
      "metadata": {
        "id": "SWKuGQmzZNjP"
      }
    },
    {
      "cell_type": "markdown",
      "source": [
        "1. построить модель линейной регрессии с указанными параметрами своими средствами(вместе со свободным коэффициентом), то есть пользоваться готовыми линейными моделями нельзя (максимум – для сравнения своего результата с готовой реализации, плюс можно использовать NumPy для матричных вычислений или специальные функции, решающие оптимизационные задачи);\n",
        "2. рассчитать оценки наименьших квадратов для параметров и остаточной дисперсии;\n",
        "3. вычислить коэффициент детерминации;\n",
        "4. построить доверительные интервалы для параметров модели и остаточной дисперсии;\n",
        "\n",
        "Зависимая переменная – популярность, предикторы – продолжительность, ”танцевальность”, ”энергичность”."
      ],
      "metadata": {
        "id": "IzfUHEh1INoR"
      }
    },
    {
      "cell_type": "code",
      "source": [
        "from google.colab import drive\n",
        "drive.mount('/content/drive')\n",
        "import pandas as pd\n",
        "import numpy as np\n",
        "from sklearn.linear_model import LinearRegression\n",
        "from scipy.stats import t\n",
        "from scipy.stats import f\n",
        "from scipy.stats import chi2\n",
        "import matplotlib.pyplot as plt\n",
        "from mpl_toolkits.mplot3d import Axes3D"
      ],
      "metadata": {
        "colab": {
          "base_uri": "https://localhost:8080/"
        },
        "id": "lElZzSKpYoNO",
        "outputId": "a2a703b4-b12d-4a92-8048-0ac22bca6cb4"
      },
      "execution_count": null,
      "outputs": [
        {
          "output_type": "stream",
          "name": "stdout",
          "text": [
            "Drive already mounted at /content/drive; to attempt to forcibly remount, call drive.mount(\"/content/drive\", force_remount=True).\n"
          ]
        }
      ]
    },
    {
      "cell_type": "markdown",
      "source": [
        "Линейная регрессия выражается в следующей форме:\n",
        "\n",
        "$Y = $$β_0$ + $β_1$$X_1$ + ... + $β_n$$X_n$ + $ɛ$\n",
        "\n",
        "где  $X= $($X_1$, ..., $X_n$) - набор независимых переменных\n",
        "\n",
        "n - число предсказаний\n",
        "\n",
        "$β_0$, $β_1$, ..., $β_n$ - коэффициенты регрессии\n",
        "\n",
        "$ɛ$ - случайная ошибка"
      ],
      "metadata": {
        "id": "4q4tzoE2cWH7"
      }
    },
    {
      "cell_type": "code",
      "source": [
        "df = pd.read_csv('sample_data/song_data.csv')\n",
        "Y = np.array(df['song_popularity'])\n",
        "duration = np.array(df['song_duration_ms'])\n",
        "danceability = np.array(df['danceability'])\n",
        "energy = np.array(df['energy'])\n",
        "X = np.array([duration, danceability, energy, np.ones(len(duration))]).T"
      ],
      "metadata": {
        "id": "7ryXJBM8JJjZ"
      },
      "execution_count": null,
      "outputs": []
    },
    {
      "cell_type": "markdown",
      "source": [
        "Коэффициенты регрессии\n",
        "c оцениваются методом наименьших квадратов.\n",
        "Рассчитаем оценки наименьших квадратов для параметров.\n",
        "\n",
        "1.\n",
        "\n",
        "  $y = Xс+ϵ$\n",
        "\n",
        "2. Минимизация суммы квадратов ошибок:\n",
        "\n",
        "  $S(с) = ∑{(Y_i-X_iс)^2} = (Y-Xс)^T(Y-Xс) = Y^TY-2с^TX^TY+с^TX^TXс$\n",
        "\n",
        "3. Производная:\n",
        "\n",
        "  $\\frac{δS(с)}{δс}=\\frac{δ}{δс}(Y^TY-2с^TX^TY+с^TX^TXс)$\n",
        "\n",
        "  $\\frac{δS(с)}{δс}=-2X^TY+2X^TXс$\n",
        "\n",
        "4. Минимум\n",
        "\n",
        "  $-2X^TY+2X^TXс = 0$\n",
        "\n",
        "5. Оценка\n",
        "c вычисляется по формуле:\n",
        "$\\widehat{c}$ = $(X^TX)^{-1}$$X^T$$Y$"
      ],
      "metadata": {
        "id": "QO_eXfXrcveV"
      }
    },
    {
      "cell_type": "code",
      "source": [
        "C = np.dot(np.dot(np.linalg.inv(np.dot(X.T, X)), X.T), Y)\n",
        "print(\"Коэффициенты регрессии:\", C[0], C[1], C[2], C[3])"
      ],
      "metadata": {
        "colab": {
          "base_uri": "https://localhost:8080/"
        },
        "id": "0RtHyZPNbpWz",
        "outputId": "edd30d38-477c-412f-e8ee-cf32ce62a3ea"
      },
      "execution_count": null,
      "outputs": [
        {
          "output_type": "stream",
          "name": "stdout",
          "text": [
            "Коэффициенты регрессии: -2.8502021545008635e-06 14.478199189010326 -0.2567102836253759 44.609661234376055\n"
          ]
        }
      ]
    },
    {
      "cell_type": "code",
      "source": [
        "regression = LinearRegression().fit(X, Y)\n",
        "print(\"Коэффициенты регрессии:\",regression.coef_[0], regression.coef_[1], regression.coef_[2], regression.intercept_)"
      ],
      "metadata": {
        "colab": {
          "base_uri": "https://localhost:8080/"
        },
        "id": "jX1vFfFMbrm1",
        "outputId": "1c3eaf6e-919b-4a69-8cd5-35ee39bafc5d"
      },
      "execution_count": null,
      "outputs": [
        {
          "output_type": "stream",
          "name": "stdout",
          "text": [
            "Коэффициенты регрессии: -2.850202154524885e-06 14.478199189009976 -0.25671028362546977 44.60966123438163\n"
          ]
        }
      ]
    },
    {
      "cell_type": "markdown",
      "source": [
        "Оценка остаточной дисперсии\n",
        "\n",
        "${S}^2 = \\cfrac{\\sum_{i=1}^n(y_{i}-\\hat y_{i})^2}{n - p - 1}$\n"
      ],
      "metadata": {
        "id": "uB7QNwogehrq"
      }
    },
    {
      "cell_type": "code",
      "source": [
        "n = len(Y)\n",
        "p = X.shape[1] - 1\n",
        "residuals = X @ C - Y\n",
        "Ssq = np.sum(residuals**2)\n",
        "var = Ssq / (n - p - 1)\n",
        "print(\"Остаточная дисперсия:\", var)"
      ],
      "metadata": {
        "colab": {
          "base_uri": "https://localhost:8080/"
        },
        "id": "DWwTJeSHbyTe",
        "outputId": "a8295e0c-01d7-4683-b22f-3c6a96638a11"
      },
      "execution_count": null,
      "outputs": [
        {
          "output_type": "stream",
          "name": "stdout",
          "text": [
            "Остаточная дисперсия: 474.68050520294605\n"
          ]
        }
      ]
    },
    {
      "cell_type": "markdown",
      "source": [
        "Коэффициент детерминации:\n",
        "$$R^2 =\\frac{\\sigma^2}{\\sigma^2_y}= \\cfrac{\\sum\\limits^n_{i = 1}(Y_i - \\hat{Y})^2}{\\sum\\limits^n_{i = 1}(Y_i - \\overline{Y})^2}$$   \n",
        "\n",
        "Коэффициент показывает, какую долю общей вариации в данных объясняет модель"
      ],
      "metadata": {
        "id": "ZzUMGRVLex5q"
      }
    },
    {
      "cell_type": "code",
      "source": [
        "numerator = 0\n",
        "Yhat = X @ C\n",
        "for i in range(n):\n",
        "    numerator += (Y[i] - Yhat[i]) ** 2\n",
        "\n",
        "denom = 0\n",
        "for i in range(n):\n",
        "    denom += (Y[i] - np.mean(Y)) ** 2\n",
        "\n",
        "\n",
        "R = numerator / denom\n",
        "print(\"Коэффициент детерминации:\", 1 - R)\n",
        "print(Yhat, Y)"
      ],
      "metadata": {
        "colab": {
          "base_uri": "https://localhost:8080/"
        },
        "id": "JngRGSc7b6Vz",
        "outputId": "0dd114f4-3502-4954-deec-f05b64eb3761"
      },
      "execution_count": null,
      "outputs": [
        {
          "output_type": "stream",
          "name": "stdout",
          "text": [
            "Коэффициент детерминации: 0.010946570823361368\n",
            "[50.86806954 51.61956842 54.50075128 ... 54.41671742 50.58726567\n",
            " 53.22629392] [73 66 76 ... 23 55 60]\n"
          ]
        }
      ]
    },
    {
      "cell_type": "markdown",
      "source": [
        "Найдем доверительный интервал для параметров модели\n",
        "\n",
        "$\\frac{\\widehat {c}_i - c_i}{\\sqrt{(X^TX)^{-1}S^2(\\widehat {c})}} \\sim T(n - p -1)$\n",
        "\n",
        "Выразим отсюда коэффициенты:\n",
        "\n",
        "$\\widehat{c}_i - T_{(1-α/2)(n-p-1)} \\sqrt{(X^TX)^{-1}S^2(\\widehat{c})} < c_i < \\widehat{c}_i + T_{(1 - α/2)(n-p-1)}\\sqrt{(X^TX)^{-1}S^2(\\widehat{c})}$\n",
        "\n",
        "Формула для подсчета доверительного интервала остаточной дисперсии:\n",
        "\n",
        "$\\frac{S^2(\\widehat{c})}{σ} \\sim χ^2(n-p-1)$\n",
        "\n",
        "Выразим остаточную дисперсию:\n",
        "\n",
        "$\\frac{(n-p-1)S^2(\\widehat{c})}{χ^2_{1-α/2(n-p-1)}} < σ^2 < \\frac{(n-p-1)S^2(\\widehat{c})}{χ^2_{α/2(n-p-1)}}$\n",
        "\n",
        "${χ^2_{α/2(n-p-1)}}$ критические значения χ^2 распределения для уровня значимости\n",
        "α и\n",
        "n−p−1 степеней свободы"
      ],
      "metadata": {
        "id": "Jf8zOg3-e2Jj"
      }
    },
    {
      "cell_type": "code",
      "source": [
        "alpha = 0.05\n",
        "left = []\n",
        "right = []\n",
        "\n",
        "def count_borders(i):\n",
        "    left.append(C[i] + t.ppf(1 - alpha / 2, n - p - 1) * np.sqrt(np.linalg.inv(np.dot(X.T, X))[i][i]) * Ssq)\n",
        "    right.append(C[i] - t.ppf(1 - alpha / 2, n - p -1) * np.sqrt(np.linalg.inv(np.dot(X.T, X))[i][i]) * Ssq)\n",
        "\n",
        "for i in range(3):\n",
        "    count_borders(i)"
      ],
      "metadata": {
        "id": "H_aczhutb_xu"
      },
      "execution_count": null,
      "outputs": []
    },
    {
      "cell_type": "code",
      "source": [
        "print(\"Доверительные интервалы для параметров модели:\")\n",
        "print(left)\n",
        "print(right)\n",
        "\n",
        "print(\"Доверительные интервалы остаточной дисперсии:\")\n",
        "print((n-p-1) * var / chi2.ppf(1 - alpha / 2, n - p - 1))\n",
        "print((n-p-1) * var / chi2.ppf(alpha / 2, n - p - 1))\n",
        "\n",
        "print(C[0], C[1], C[2], C[3])"
      ],
      "metadata": {
        "colab": {
          "base_uri": "https://localhost:8080/"
        },
        "id": "62h4kELxcCTb",
        "outputId": "d3fd8ab0-88a3-4037-d6c4-9767deb8b22d"
      },
      "execution_count": null,
      "outputs": [
        {
          "output_type": "stream",
          "name": "stdout",
          "text": [
            "Доверительные интервалы для параметров модели:\n",
            "[2.153991407200194, 820372.6600631613, 599768.9143855638]\n",
            "[-2.1539971076045026, -820343.7036647832, -599769.427806131]\n",
            "Доверительные интервалы остаточной дисперсии:\n",
            "465.23655458059085\n",
            "484.41633176247376\n",
            "-2.8502021545008635e-06 14.478199189010326 -0.2567102836253759 44.609661234376055\n"
          ]
        }
      ]
    }
  ]
}